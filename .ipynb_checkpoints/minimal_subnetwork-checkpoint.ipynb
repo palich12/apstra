{
 "cells": [
  {
   "cell_type": "markdown",
   "metadata": {},
   "source": [
    "# Поиск минимальной подсети"
   ]
  },
  {
   "cell_type": "code",
   "execution_count": 14,
   "metadata": {},
   "outputs": [],
   "source": [
    "ips = [\n",
    "    \"192.168.0.1\",\n",
    "    \"192.168.0.2\",\n",
    "    \"192.168.0.128\",\n",
    "    \"192.168.2.128\",\n",
    "    \"192.168.100.100\",\n",
    "    \"192.200.1.1\",\n",
    "    \"192.200.1.1\",\n",
    "    \"192.200.60.70\",\n",
    "    \"192.255.1.1\"\n",
    "]"
   ]
  },
  {
   "cell_type": "markdown",
   "metadata": {},
   "source": [
    "### преобразуем массив в бинарный формат"
   ]
  },
  {
   "cell_type": "code",
   "execution_count": 15,
   "metadata": {},
   "outputs": [],
   "source": [
    "ips_bin = []\n",
    "for ip in ips:\n",
    "    ip_bin = 0\n",
    "    for i in ip.split('.'):\n",
    "        ip_bin *= 256\n",
    "        ip_bin += int(i)\n",
    "    ips_bin += [ip_bin]"
   ]
  },
  {
   "cell_type": "code",
   "execution_count": 16,
   "metadata": {},
   "outputs": [
    {
     "data": {
      "text/plain": [
       "[3232235521,\n",
       " 3232235522,\n",
       " 3232235648,\n",
       " 3232236160,\n",
       " 3232261220,\n",
       " 3234332929,\n",
       " 3234332929,\n",
       " 3234348102,\n",
       " 3237937409]"
      ]
     },
     "execution_count": 16,
     "metadata": {},
     "output_type": "execute_result"
    }
   ],
   "source": [
    "ips_bin"
   ]
  },
  {
   "cell_type": "markdown",
   "metadata": {},
   "source": [
    "### ищем минимальную подсеть"
   ]
  },
  {
   "cell_type": "code",
   "execution_count": 17,
   "metadata": {},
   "outputs": [],
   "source": [
    "ip_bin = ips_bin[0]\n",
    "mask = 32\n",
    "for cur_ip in ips_bin:\n",
    "    while True:\n",
    "        cur_mask = (2**32-1) - (2**(32-mask) - 1)\n",
    "        if cur_ip & cur_mask == ip_bin & cur_mask:\n",
    "            ip_bin &= cur_mask\n",
    "            break\n",
    "        mask -= 1"
   ]
  },
  {
   "cell_type": "code",
   "execution_count": 18,
   "metadata": {},
   "outputs": [
    {
     "data": {
      "text/plain": [
       "3229614080"
      ]
     },
     "execution_count": 18,
     "metadata": {},
     "output_type": "execute_result"
    }
   ],
   "source": [
    "ip_bin"
   ]
  },
  {
   "cell_type": "code",
   "execution_count": 19,
   "metadata": {},
   "outputs": [
    {
     "data": {
      "text/plain": [
       "9"
      ]
     },
     "execution_count": 19,
     "metadata": {},
     "output_type": "execute_result"
    }
   ],
   "source": [
    "mask"
   ]
  },
  {
   "cell_type": "markdown",
   "metadata": {},
   "source": [
    "### выводим найденную подсеть в строковом привычном формате"
   ]
  },
  {
   "cell_type": "code",
   "execution_count": 20,
   "metadata": {},
   "outputs": [],
   "source": [
    "segments = []\n",
    "cur_ip = ip_bin\n",
    "for i in range(4):\n",
    "    segments += [str(cur_ip % 256)]\n",
    "    cur_ip //= 256\n",
    "segments.reverse()\n",
    "result = \".\".join(segments) + \"/\" + str(mask)"
   ]
  },
  {
   "cell_type": "code",
   "execution_count": 21,
   "metadata": {},
   "outputs": [
    {
     "data": {
      "text/plain": [
       "'192.128.0.0/9'"
      ]
     },
     "execution_count": 21,
     "metadata": {},
     "output_type": "execute_result"
    }
   ],
   "source": [
    "result"
   ]
  },
  {
   "cell_type": "code",
   "execution_count": null,
   "metadata": {},
   "outputs": [],
   "source": []
  }
 ],
 "metadata": {
  "kernelspec": {
   "display_name": "Python 3",
   "language": "python",
   "name": "python3"
  },
  "language_info": {
   "codemirror_mode": {
    "name": "ipython",
    "version": 3
   },
   "file_extension": ".py",
   "mimetype": "text/x-python",
   "name": "python",
   "nbconvert_exporter": "python",
   "pygments_lexer": "ipython3",
   "version": "3.7.6"
  }
 },
 "nbformat": 4,
 "nbformat_minor": 4
}
